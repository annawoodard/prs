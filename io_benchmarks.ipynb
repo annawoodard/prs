{
 "cells": [
  {
   "cell_type": "code",
   "execution_count": 3,
   "metadata": {},
   "outputs": [],
   "source": [
    "import time\n",
    "import os\n",
    "\n",
    "import pandas as pd\n",
    "import numpy as np\n",
    "import pyarrow as pa\n",
    "import pyarrow.parquet as pq\n",
    "import h5py"
   ]
  },
  {
   "cell_type": "code",
   "execution_count": 4,
   "metadata": {},
   "outputs": [],
   "source": [
    "df = pd.DataFrame(np.random.randn(15000000, 3), columns=list('ABC'))"
   ]
  },
  {
   "cell_type": "code",
   "execution_count": 13,
   "metadata": {},
   "outputs": [],
   "source": [
    "base = '/scratch/midway2/annawoodard/'"
   ]
  },
  {
   "cell_type": "code",
   "execution_count": 3,
   "metadata": {},
   "outputs": [],
   "source": [
    "def benchmark_csv(df, filename):\n",
    "    path = os.path.join(base, filename)\n",
    "    \n",
    "    start = time.time()\n",
    "    df.to_csv(path)\n",
    "    write_time = time.time() - start\n",
    "    \n",
    "    start = time.time()\n",
    "    df = pd.read_csv(path)\n",
    "    read_time = time.time() - start\n",
    "    \n",
    "    size = os.stat(path).st_size / 1e9\n",
    "    \n",
    "    print('file size: {:.2f} GB\\nwrite time: {:.2f} seconds\\nread time: {:.3f} seconds'.format(\n",
    "        size, write_time, read_time))"
   ]
  },
  {
   "cell_type": "code",
   "execution_count": 8,
   "metadata": {},
   "outputs": [],
   "source": [
    "def benchmark_pickle(df, filename):\n",
    "    path = os.path.join(base, filename)\n",
    "    \n",
    "    start = time.time()\n",
    "    df.to_pickle(path)\n",
    "    write_time = time.time() - start\n",
    "    \n",
    "    start = time.time()\n",
    "    df = pd.read_pickle(path)\n",
    "    read_time = time.time() - start\n",
    "    \n",
    "    size = os.stat(path).st_size / 1e9\n",
    "    \n",
    "    print('file size: {:.2f} GB\\nwrite time: {:.2f} seconds\\nread time: {:.3f} seconds'.format(\n",
    "        size, write_time, read_time))"
   ]
  },
  {
   "cell_type": "code",
   "execution_count": 14,
   "metadata": {},
   "outputs": [],
   "source": [
    "def benchmark_h5(df, filename):\n",
    "    path = os.path.join(base, filename)\n",
    "    \n",
    "    start = time.time()\n",
    "    df.to_hdf(path, key='foo', mode='w')\n",
    "    write_time = time.time() - start\n",
    "    \n",
    "    start = time.time()\n",
    "    file = h5py.File(path, 'r')\n",
    "    df = file['foo']\n",
    "    read_time = time.time() - start\n",
    "    \n",
    "    size = os.stat(path).st_size / 1e9\n",
    "    \n",
    "    print('file size: {:.2f} GB\\nwrite time: {:.2f} seconds\\nread time: {:.3f} seconds'.format(\n",
    "        size, write_time, read_time))"
   ]
  },
  {
   "cell_type": "code",
   "execution_count": 20,
   "metadata": {},
   "outputs": [],
   "source": [
    "def benchmark_parquet(df, filename):\n",
    "    path = os.path.join(base, filename)\n",
    "    \n",
    "    start = time.time()\n",
    "    table = pa.Table.from_pandas(df)\n",
    "    pq.write_table(table, path)\n",
    "    write_time = time.time() - start\n",
    "    \n",
    "    start = time.time()\n",
    "    table = pq.read_table(path)\n",
    "    df = table.to_pandas()\n",
    "    read_time = time.time() - start\n",
    "    \n",
    "    size = os.stat(path).st_size / 1e9\n",
    "    \n",
    "    print('file size: {:.2f} GB\\nwrite time: {:.2f} seconds\\nread time: {:.2f} seconds'.format(\n",
    "        size, write_time, read_time))"
   ]
  },
  {
   "cell_type": "markdown",
   "metadata": {},
   "source": [
    "# uncompressed csv"
   ]
  },
  {
   "cell_type": "code",
   "execution_count": 5,
   "metadata": {},
   "outputs": [
    {
     "name": "stdout",
     "output_type": "stream",
     "text": [
      "file size: 1.01 GB\n",
      "write time: 105.53 seconds\n",
      "read time: 11.20 seconds\n"
     ]
    }
   ],
   "source": [
    "benchmark_csv(df, 'foo.csv')"
   ]
  },
  {
   "cell_type": "markdown",
   "metadata": {},
   "source": [
    "# compressed csv"
   ]
  },
  {
   "cell_type": "code",
   "execution_count": 6,
   "metadata": {},
   "outputs": [
    {
     "name": "stdout",
     "output_type": "stream",
     "text": [
      "file size: 0.40 GB\n",
      "write time: 247.84 seconds\n",
      "read time: 65.69 seconds\n"
     ]
    }
   ],
   "source": [
    "benchmark_csv(df, 'foo.csv.bz2')"
   ]
  },
  {
   "cell_type": "markdown",
   "metadata": {},
   "source": [
    "# pickle"
   ]
  },
  {
   "cell_type": "code",
   "execution_count": 9,
   "metadata": {},
   "outputs": [
    {
     "name": "stdout",
     "output_type": "stream",
     "text": [
      "file size: 0.36 GB\n",
      "write time: 0.91 seconds\n",
      "read time: 0.64 seconds\n"
     ]
    }
   ],
   "source": [
    "benchmark_pickle(df, 'foo.pkl')"
   ]
  },
  {
   "cell_type": "markdown",
   "metadata": {},
   "source": [
    "# HDF5"
   ]
  },
  {
   "cell_type": "code",
   "execution_count": 15,
   "metadata": {},
   "outputs": [
    {
     "name": "stdout",
     "output_type": "stream",
     "text": [
      "file size: 0.48 GB\n",
      "write time: 0.25 seconds\n",
      "read time: 0.001 seconds\n"
     ]
    }
   ],
   "source": [
    "benchmark_h5(df, 'foo.h5')"
   ]
  },
  {
   "cell_type": "markdown",
   "metadata": {},
   "source": [
    "# parquet"
   ]
  },
  {
   "cell_type": "code",
   "execution_count": 21,
   "metadata": {},
   "outputs": [
    {
     "name": "stdout",
     "output_type": "stream",
     "text": [
      "file size: 0.36 GB\n",
      "write time: 1.38 seconds\n",
      "read time: 1.54 seconds\n"
     ]
    }
   ],
   "source": [
    "benchmark_parquet(df, 'foo.parquet')"
   ]
  }
 ],
 "metadata": {
  "kernelspec": {
   "display_name": "Python 3",
   "language": "python",
   "name": "python3"
  },
  "language_info": {
   "codemirror_mode": {
    "name": "ipython",
    "version": 3
   },
   "file_extension": ".py",
   "mimetype": "text/x-python",
   "name": "python",
   "nbconvert_exporter": "python",
   "pygments_lexer": "ipython3",
   "version": "3.6.9"
  }
 },
 "nbformat": 4,
 "nbformat_minor": 2
}
