{
 "cells": [
  {
   "cell_type": "code",
   "execution_count": null,
   "metadata": {},
   "outputs": [],
   "source": [
    "import pandas as pd\n",
    "\n",
    "final = None\n",
    "\n",
    "chunksize = 5\n",
    "with open('file.txt') as f:\n",
    "    reader = pd.read_csv(f, chunksize=chunksize)\n",
    "    for chunk in range(chunksize):\n",
    "        data = reader.get_chunk(chunk)\n",
    "        if final is None:\n",
    "            final = data[(data['size'] >= 0.7) & (data['maf'] > 0.005) & (data['maf'] < 0.995)]\n",
    "        else:\n",
    "            final = pd.concat([final, data[(data['size'] >= 0.7) & (data['maf'] > 0.005) & (data['maf'] < 0.995)])\n",
    "            \n",
    "\n",
    "final.to_pickle('final.pkl')"
   ]
  }
 ],
 "metadata": {
  "kernelspec": {
   "display_name": "Python 3",
   "language": "python",
   "name": "python3"
  },
  "language_info": {
   "codemirror_mode": {
    "name": "ipython",
    "version": 3
   },
   "file_extension": ".py",
   "mimetype": "text/x-python",
   "name": "python",
   "nbconvert_exporter": "python",
   "pygments_lexer": "ipython3",
   "version": "3.7.2"
  }
 },
 "nbformat": 4,
 "nbformat_minor": 2
}
