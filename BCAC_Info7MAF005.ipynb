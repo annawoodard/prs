{
 "cells": [
  {
   "cell_type": "code",
   "execution_count": null,
   "metadata": {},
   "outputs": [],
   "source": [
    "import pandas as pd\n",
    "\n",
    "final = None\n",
    "\n",
    "chunksize = 5\n",
    "with open('file.txt') as f:\n",
    "    reader = pd.read_csv(f, chunksize=chunksize)\n",
    "    for chunk in range(chunksize):\n",
    "        data = reader.get_chunk(chunk)\n",
    "        if final is None:\n",
    "            final = data[(data['size'] >= 0.7) & (data['maf'] > 0.005) & (data['maf'] < 0.995)]\n",
    "        else:\n",
    "            final = data[(data['size'] >= 0.7) & (data['maf'] > 0.005) & (data['maf'] < 0.995)]\n",
    "            \n",
    "\n",
    "final.to_pickle('final.pkl')"
   ]
  },
  {
   "cell_type": "code",
   "execution_count": 4,
   "metadata": {},
   "outputs": [
    {
     "name": "stdout",
     "output_type": "stream",
     "text": [
      "\u001b[34mApplications\u001b[m\u001b[m                                      \u001b[34mcareer\u001b[m\u001b[m                                            krb5.conf.txt.backup                              \u001b[34msoftware\u001b[m\u001b[m\r\n",
      "BCAC_Info7MAF005.ipynb                            \u001b[34mci\u001b[m\u001b[m                                                kube.py                                           sorted.txt\r\n",
      "\u001b[34mDesktop\u001b[m\u001b[m                                           \u001b[34mcoffea\u001b[m\u001b[m                                            local_multi.py                                    \u001b[34mt\u001b[m\u001b[m\r\n",
      "\u001b[34mDocuments\u001b[m\u001b[m                                         config                                            notes.txt                                         t.json\r\n",
      "\u001b[34mDownloads\u001b[m\u001b[m                                         cores.pdf                                         open?id=1jTxvJLSM7hFu-WohM3dHVYZ69h95tIsX         t.py\r\n",
      "ERR000524_PE.small.sorted.merged.PlatypusGerm.vcf \u001b[34mcv\u001b[m\u001b[m                                                out                                               t.txt\r\n",
      "\u001b[34mLibrary\u001b[m\u001b[m                                           \u001b[34mdata-rescue\u001b[m\u001b[m                                       \u001b[34mpapers\u001b[m\u001b[m                                            te\r\n",
      "\u001b[34mMovies\u001b[m\u001b[m                                            dissertation.bib                                  \u001b[34mparsl_scripts\u001b[m\u001b[m                                     test\r\n",
      "\u001b[34mMusic\u001b[m\u001b[m                                             echo-hello.stdout                                 \u001b[34mphone_backup\u001b[m\u001b[m                                      test.docx\r\n",
      "\u001b[34mPictures\u001b[m\u001b[m                                          faq.rst                                           \u001b[34mphysics\u001b[m\u001b[m                                           test.json\r\n",
      "\u001b[34mPublic\u001b[m\u001b[m                                            \u001b[34mfellowships+grants\u001b[m\u001b[m                                \u001b[34mplay\u001b[m\u001b[m                                              test.pdf\r\n",
      "README.md                                         \u001b[34mfinances\u001b[m\u001b[m                                          \u001b[31mpre-commit\u001b[m\u001b[m                                        test.py\r\n",
      "\u001b[34mSites\u001b[m\u001b[m                                             \u001b[34mgenomics\u001b[m\u001b[m                                          \u001b[34mpresentations\u001b[m\u001b[m                                     \u001b[34mtest4\u001b[m\u001b[m\r\n",
      "\u001b[34mTakeout 03\u001b[m\u001b[m                                        genomics.txt                                      \u001b[34mproposals\u001b[m\u001b[m                                         test_basic.py\r\n",
      "\u001b[34mTakeout 04\u001b[m\u001b[m                                        getfigs.sh                                        \u001b[34mr\u001b[m\u001b[m                                                 test_import_fail.py\r\n",
      "\u001b[34mTakeout 05\u001b[m\u001b[m                                        graph-size-PR-580-PR-583.pdf                      \u001b[34mreferences\u001b[m\u001b[m                                        todo.txt\r\n",
      "Untitled.ipynb                                    graph-size-PR-580.pdf                             ripgrep-0.7.1-i686-unknown-linux-musl.tar.gz      \u001b[31mtopcpumem.sh\u001b[m\u001b[m\r\n",
      "Untitled1.ipynb                                   graph-size-PR-583.pdf                             \u001b[34mruninfo\u001b[m\u001b[m                                           tunnel.sh\r\n",
      "\u001b[34m__pycache__\u001b[m\u001b[m                                       graph-size.pdf                                    s.pdf                                             unsorted.txt\r\n",
      "\u001b[34manaconda3\u001b[m\u001b[m                                         human_g1k_v37.fasta.gz                            \u001b[34msebastian\u001b[m\u001b[m                                         vim.txt\r\n",
      "auc.pdf                                           \u001b[31mimgcat\u001b[m\u001b[m                                            setup.sh                                          \u001b[34myadu_test\u001b[m\u001b[m\r\n",
      "\u001b[34mcancer\u001b[m\u001b[m                                            install.sh                                        \u001b[34mship\u001b[m\u001b[m\r\n"
     ]
    }
   ],
   "source": []
  },
  {
   "cell_type": "code",
   "execution_count": null,
   "metadata": {},
   "outputs": [],
   "source": []
  }
 ],
 "metadata": {
  "kernelspec": {
   "display_name": "Python 3",
   "language": "python",
   "name": "python3"
  },
  "language_info": {
   "codemirror_mode": {
    "name": "ipython",
    "version": 3
   },
   "file_extension": ".py",
   "mimetype": "text/x-python",
   "name": "python",
   "nbconvert_exporter": "python",
   "pygments_lexer": "ipython3",
   "version": "3.7.2"
  }
 },
 "nbformat": 4,
 "nbformat_minor": 2
}
