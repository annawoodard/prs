{
 "cells": [
  {
   "cell_type": "code",
   "execution_count": 22,
   "metadata": {},
   "outputs": [],
   "source": [
    "import pandas as pd\n",
    "\n",
    "final = None\n",
    "\n",
    "chunksize = 100000\n",
    "\n",
    "info_reader = pd.read_csv(open('info.txt'), chunksize=chunksize, sep=\" \")\n",
    "genotype_reader = pd.read_csv(open('genotype.txt') , chunksize=chunksize, sep=\" \")\n",
    "\n",
    "for info, genotype in zip(info_reader, genotype_reader):\n",
    "    filtered_info = info[(info['type'] >= 0.7) & (info['certainty'] >= 0.005) & (info['certainty'] <= 0.995)]\n",
    "    filtered_genotype = genotype[(info['type'] >= 0.7) & (info['certainty'] >= 0.005) & (info['certainty'] <= 0.995)]\n",
    "    filtered_total = pd.concat([filtered_info, filtered_genotype], axis=1)  # specify the axis so that we are concatenating along columns instead of rows\n",
    "    \n",
    "    if final is None:\n",
    "        final = filtered_total\n",
    "    else:\n",
    "        final = pd.concat([final, filtered_total])\n",
    "\n",
    "#final.to_pickle('final.pkl')"
   ]
  }
 ],
 "metadata": {
  "kernelspec": {
   "display_name": "Python 3",
   "language": "python",
   "name": "python3"
  },
  "language_info": {
   "codemirror_mode": {
    "name": "ipython",
    "version": 3
   },
   "file_extension": ".py",
   "mimetype": "text/x-python",
   "name": "python",
   "nbconvert_exporter": "python",
   "pygments_lexer": "ipython3",
   "version": "3.7.2"
  }
 },
 "nbformat": 4,
 "nbformat_minor": 2
}
